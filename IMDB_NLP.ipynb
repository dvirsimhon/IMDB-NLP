{
 "cells": [
  {
   "cell_type": "code",
   "execution_count": null,
   "outputs": [],
   "source": [
    "!pip install nltk==3.5"
   ],
   "metadata": {
    "collapsed": false,
    "pycharm": {
     "name": "#%%\n"
    }
   }
  },
  {
   "cell_type": "code",
   "execution_count": 1,
   "metadata": {
    "colab": {
     "base_uri": "https://localhost:8080/"
    },
    "id": "Hwp7-dTs7t5e",
    "outputId": "43a70380-c94c-472f-c1fe-e72907c811d9"
   },
   "outputs": [],
   "source": [
    "from google.colab import drive\n",
    "drive.mount('/content/drive')"
   ]
  },
  {
   "cell_type": "code",
   "execution_count": 2,
   "metadata": {
    "id": "DK5yIF4H7t5m"
   },
   "outputs": [],
   "source": [
    "# change here to your dataset path\n",
    "import sklearn\n",
    "\n",
    "# PATH = 'IMDB Dataset.csv'\n",
    "PATH = '/content/drive/MyDrive/imdb/IMDB Dataset.csv'"
   ]
  },
  {
   "cell_type": "markdown",
   "metadata": {
    "id": "9LEW8niv7t5n"
   },
   "source": [
    "## **1. Background**"
   ]
  },
  {
   "cell_type": "markdown",
   "metadata": {
    "id": "Ii2TpHew7t5o"
   },
   "source": [
    "![Natural language processing](https://landbot.io/wp-content/uploads/2019/11/natural-language-processing-chatbot.jpg)"
   ]
  },
  {
   "cell_type": "markdown",
   "metadata": {
    "id": "X3FiqjK_7t5o"
   },
   "source": [
    "**What is Natural Language Processing?**\n",
    "\n",
    "From wikipedia, Natural language processing (NLP) is a subfield of linguistics, computer science, information engineering, and artificial intelligence concerned with the interactions between computers and human (natural) languages, in particular how to program computers to process and analyze large amounts of natural language data.\n",
    "\n",
    "**What is Sentiment Classification?**\n",
    "\n",
    "Sentiment analysis (also known as opinion mining or emotion AI) refers to the use of natural language processing, text analysis, computational linguistics, and biometrics to systematically identify, extract, quantify, and study affective states and subjective information. Sentiment analysis is widely applied to voice of the customer materials such as reviews and survey responses, online and social media, and healthcare materials for applications that range from marketing to customer service to clinical medicine.\n",
    "\n",
    "**What is Tokenizer?**\n",
    "\n",
    "Tokenization is a necessary first step in many natural language processing tasks, such as word counting, parsing, spell checking, corpus generation, and statistical analysis of text.\n",
    "\n",
    "Tokenizer is a compact pure-Python (2 and 3) executable program and module for tokenizing Icelandic text. It converts input text to streams of tokens, where each token is a separate word, punctuation sign, number/amount, date, e-mail, URL/URI, etc. It also segments the token stream into sentences, considering corner cases such as abbreviations and dates in the middle of sentences.[Tokenizer](https://pypi.org/project/tokenizer/)\n",
    "\n",
    "[![Open In Colab](https://colab.research.google.com/assets/colab-badge.svg)](https://colab.research.google.com/github/Serfati/imdb_sentiment_analysis)"
   ]
  },
  {
   "cell_type": "code",
   "execution_count": 3,
   "metadata": {
    "id": "TtAV_bTC7t5q"
   },
   "outputs": [],
   "source": [
    "# !pip install -r requirements.txt\n",
    "from sklearn.model_selection import train_test_split, KFold\n",
    "from sklearn.decomposition import PCA\n",
    "from sklearn.preprocessing import LabelEncoder\n",
    "from sklearn.feature_extraction.text import TfidfVectorizer, CountVectorizer"
   ]
  },
  {
   "cell_type": "code",
   "execution_count": 4,
   "metadata": {
    "id": "87-_quCtzm_4"
   },
   "outputs": [],
   "source": [
    "import nltk\n",
    "from nltk.corpus import stopwords\n",
    "from nltk.tokenize import word_tokenize\n",
    "from nltk.stem import WordNetLemmatizer\n",
    "from nltk.stem import PorterStemmer\n",
    "from collections import Counter"
   ]
  },
  {
   "cell_type": "code",
   "execution_count": 5,
   "metadata": {
    "id": "HkaQIWnE7t5q"
   },
   "outputs": [],
   "source": [
    "import re\n",
    "import os\n",
    "import pandas as pd\n",
    "import numpy as np"
   ]
  },
  {
   "cell_type": "code",
   "execution_count": 6,
   "metadata": {
    "id": "jrzevoJP7t5r"
   },
   "outputs": [],
   "source": [
    "# visualization\n",
    "import seaborn as sn\n",
    "import matplotlib.pyplot as plt\n",
    "%matplotlib inline\n",
    "plt.style.use('ggplot')"
   ]
  },
  {
   "cell_type": "code",
   "execution_count": 7,
   "metadata": {
    "id": "2bMPCC3y7t5r"
   },
   "outputs": [],
   "source": [
    "from sklearn.cluster import KMeans\n",
    "from sklearn.cluster import MiniBatchKMeans\n",
    "from sklearn.svm import SVC\n",
    "from sklearn.linear_model import LogisticRegression\n",
    "from sklearn.ensemble import RandomForestClassifier\n",
    "from sklearn.naive_bayes import MultinomialNB"
   ]
  },
  {
   "cell_type": "code",
   "execution_count": 8,
   "metadata": {
    "id": "pJn9-Spd7t5s"
   },
   "outputs": [],
   "source": [
    "from sklearn.metrics import classification_report, confusion_matrix, accuracy_score\n",
    "from sklearn.metrics import homogeneity_score\n",
    "from sklearn.metrics import silhouette_score\n",
    "from sklearn.metrics import accuracy_score\n",
    "from sklearn.metrics import roc_auc_score\n",
    "from sklearn.metrics import confusion_matrix"
   ]
  },
  {
   "cell_type": "markdown",
   "metadata": {
    "id": "nOnFe6ra7t5s"
   },
   "source": [
    "## **2. Data exploratory analysis**\n"
   ]
  },
  {
   "cell_type": "markdown",
   "metadata": {
    "id": "x48DnLDb7t5t"
   },
   "source": [
    "### **2.1 Data overview**\n",
    "\n",
    "![IMDB 50 review datasets](https://o.aolcdn.com/images/dims?quality=85&image_uri=https%3A%2F%2Fo.aolcdn.com%2Fimages%2Fdims%3Fcrop%3D908%252C537%252C0%252C0%26quality%3D85%26format%3Djpg%26resize%3D1600%252C947%26image_uri%3Dhttps%253A%252F%252Fs.yimg.com%252Fos%252Fcreatr-uploaded-images%252F2019-08%252F560e5d20-c833-11e9-bf26-36635805fe83%26client%3Da1acac3e1b3290917d92%26signature%3D639a4965c41ca6cec13652498f65cfc97170ea5d&client=amp-blogside-v2&signature=765e155477177a69b93eac5611145d4241be6071)"
   ]
  },
  {
   "cell_type": "markdown",
   "metadata": {
    "id": "Ho9YteIj7t5t"
   },
   "source": [
    "This dataset contains movie reviews along with their associated binary sentiment polarity labels. It is intended to serve as a benchmark for sentiment classification. This document outlines how the dataset was gathered, and how to use the files provided.\n",
    "\n",
    "**Dataset**\n",
    "\n",
    "The core dataset contains 50,000 reviews. The overall distribution of labels is balanced (25k pos and 25k neg). We also include an additional 50,000 unlabeled documents for unsupervised learning."
   ]
  },
  {
   "cell_type": "markdown",
   "metadata": {
    "id": "twyDqVf97t5t"
   },
   "source": [
    "### **2.2 Data Exploration**"
   ]
  },
  {
   "cell_type": "markdown",
   "metadata": {
    "id": "t7R2_42p7t5u"
   },
   "source": [
    "The first step is to load the data to global environment."
   ]
  },
  {
   "cell_type": "code",
   "execution_count": 9,
   "metadata": {
    "id": "TigiU-nyzn4K"
   },
   "outputs": [],
   "source": [
    "df = pd.read_csv(PATH)"
   ]
  },
  {
   "cell_type": "markdown",
   "metadata": {
    "id": "ib4RRNgL7t5u"
   },
   "source": [
    "We could see some abnormal words such as <br /><br />, then we should replace them by a null or space value."
   ]
  },
  {
   "cell_type": "code",
   "execution_count": 10,
   "metadata": {
    "colab": {
     "base_uri": "https://localhost:8080/",
     "height": 316
    },
    "id": "5sN0_aOC7t5v",
    "outputId": "90d42037-ec20-46bd-881c-3b0172a4e399"
   },
   "outputs": [
    {
     "data": {
      "text/plain": [
       "Text(0.5, 1.0, 'Words occurrence frequency')"
      ]
     },
     "execution_count": 10,
     "metadata": {},
     "output_type": "execute_result"
    },
    {
     "data": {
      "image/png": "[encoded data removed]",
      "text/plain": [
       "<Figure size 432x288 with 1 Axes>"
      ]
     },
     "metadata": {
      "needs_background": "light"
     },
     "output_type": "display_data"
    }
   ],
   "source": [
    "plt.figure()\n",
    "plt.hist(df['review'].str.split().apply(len).value_counts())\n",
    "plt.xlabel('number of words in sentence')\n",
    "plt.ylabel('frequency')\n",
    "plt.title('Words occurrence frequency')"
   ]
  },
  {
   "cell_type": "code",
   "execution_count": 11,
   "metadata": {
    "colab": {
     "base_uri": "https://localhost:8080/",
     "height": 204
    },
    "id": "d0yRw7Y0znwB",
    "outputId": "9bc0f786-cac6-4e24-df60-407a07eda190"
   },
   "outputs": [
    {
     "data": {
      "text/html": [
       "<div>\n",
       "<style scoped>\n",
       "    .dataframe tbody tr th:only-of-type {\n",
       "        vertical-align: middle;\n",
       "    }\n",
       "\n",
       "    .dataframe tbody tr th {\n",
       "        vertical-align: top;\n",
       "    }\n",
       "\n",
       "    .dataframe thead th {\n",
       "        text-align: right;\n",
       "    }\n",
       "</style>\n",
       "<table border=\"1\" class=\"dataframe\">\n",
       "  <thead>\n",
       "    <tr style=\"text-align: right;\">\n",
       "      <th></th>\n",
       "      <th>review</th>\n",
       "      <th>sentiment</th>\n",
       "    </tr>\n",
       "  </thead>\n",
       "  <tbody>\n",
       "    <tr>\n",
       "      <th>0</th>\n",
       "      <td>One of the other reviewers has mentioned that ...</td>\n",
       "      <td>positive</td>\n",
       "    </tr>\n",
       "    <tr>\n",
       "      <th>1</th>\n",
       "      <td>A wonderful little production. &lt;br /&gt;&lt;br /&gt;The...</td>\n",
       "      <td>positive</td>\n",
       "    </tr>\n",
       "    <tr>\n",
       "      <th>2</th>\n",
       "      <td>I thought this was a wonderful way to spend ti...</td>\n",
       "      <td>positive</td>\n",
       "    </tr>\n",
       "    <tr>\n",
       "      <th>3</th>\n",
       "      <td>Basically there's a family where a little boy ...</td>\n",
       "      <td>negative</td>\n",
       "    </tr>\n",
       "    <tr>\n",
       "      <th>4</th>\n",
       "      <td>Petter Mattei's \"Love in the Time of Money\" is...</td>\n",
       "      <td>positive</td>\n",
       "    </tr>\n",
       "  </tbody>\n",
       "</table>\n",
       "</div>"
      ],
      "text/plain": [
       "                                              review sentiment\n",
       "0  One of the other reviewers has mentioned that ...  positive\n",
       "1  A wonderful little production. <br /><br />The...  positive\n",
       "2  I thought this was a wonderful way to spend ti...  positive\n",
       "3  Basically there's a family where a little boy ...  negative\n",
       "4  Petter Mattei's \"Love in the Time of Money\" is...  positive"
      ]
     },
     "execution_count": 11,
     "metadata": {},
     "output_type": "execute_result"
    }
   ],
   "source": [
    "df.head()"
   ]
  },
  {
   "cell_type": "code",
   "execution_count": 12,
   "metadata": {
    "colab": {
     "base_uri": "https://localhost:8080/"
    },
    "id": "R_kYH3y6znkh",
    "outputId": "4f03a25d-e3d5-4e92-a2a8-c547ccbaf62e"
   },
   "outputs": [
    {
     "name": "stdout",
     "output_type": "stream",
     "text": [
      "<class 'pandas.core.frame.DataFrame'>\n",
      "RangeIndex: 50000 entries, 0 to 49999\n",
      "Data columns (total 2 columns):\n",
      " #   Column     Non-Null Count  Dtype \n",
      "---  ------     --------------  ----- \n",
      " 0   review     50000 non-null  object\n",
      " 1   sentiment  50000 non-null  object\n",
      "dtypes: object(2)\n",
      "memory usage: 781.4+ KB\n"
     ]
    }
   ],
   "source": [
    "df.info()"
   ]
  },
  {
   "cell_type": "code",
   "execution_count": 13,
   "metadata": {
    "colab": {
     "base_uri": "https://localhost:8080/",
     "height": 52
    },
    "id": "SwZy4AK-z6DZ",
    "outputId": "6e69a4c1-bc16-45c4-b282-2122584002c0"
   },
   "outputs": [
    {
     "data": {
      "text/plain": [
       "\"One of the other reviewers has mentioned that after watching just 1 Oz episode you'll be hooked. They are right, as this is exactly what happened with me.<br /><br />The first thing that struck me about Oz was its brutality and unflinching scenes of \""
      ]
     },
     "execution_count": 13,
     "metadata": {},
     "output_type": "execute_result"
    }
   ],
   "source": [
    "df[\"review\"][0][:250]"
   ]
  },
  {
   "cell_type": "code",
   "execution_count": 14,
   "metadata": {
    "colab": {
     "base_uri": "https://localhost:8080/",
     "height": 35
    },
    "id": "vly3acnwz6A3",
    "outputId": "cbb6bae4-b3df-44e4-8ca8-b0c0f8178e11"
   },
   "outputs": [
    {
     "data": {
      "text/plain": [
       "'positive'"
      ]
     },
     "execution_count": 14,
     "metadata": {},
     "output_type": "execute_result"
    }
   ],
   "source": [
    "df[\"sentiment\"][0]"
   ]
  },
  {
   "cell_type": "code",
   "execution_count": 15,
   "metadata": {
    "colab": {
     "base_uri": "https://localhost:8080/"
    },
    "id": "xJQyEYcjz5-f",
    "outputId": "9875b7b4-a85a-46d3-9730-dab84616ba7a"
   },
   "outputs": [
    {
     "data": {
      "text/plain": [
       "sentiment\n",
       "negative    25000\n",
       "positive    25000\n",
       "Name: review, dtype: int64"
      ]
     },
     "execution_count": 15,
     "metadata": {},
     "output_type": "execute_result"
    }
   ],
   "source": [
    "df[\"review\"].groupby(df[\"sentiment\"]).count()"
   ]
  },
  {
   "cell_type": "code",
   "execution_count": 16,
   "metadata": {
    "colab": {
     "base_uri": "https://localhost:8080/",
     "height": 307
    },
    "id": "opMhAMQdz573",
    "outputId": "2f44c6a8-6651-4de0-eecb-443512e39b10"
   },
   "outputs": [
    {
     "data": {
      "text/plain": [
       "Text(0.5, 1.0, 'Reviews polarity')"
      ]
     },
     "execution_count": 16,
     "metadata": {},
     "output_type": "execute_result"
    },
    {
     "data": {
      "image/png": "[encoded data removed]",
      "text/plain": [
       "<Figure size 432x288 with 1 Axes>"
      ]
     },
     "metadata": {
      "needs_background": "light"
     },
     "output_type": "display_data"
    }
   ],
   "source": [
    "# Sentiment reviews distribution\n",
    "s = df['sentiment'].value_counts()\n",
    "s = (s/s.sum())*100\n",
    "\n",
    "plt.figure()\n",
    "bars = plt.bar(s.index, s.values, color = ['green', 'red'], alpha = .6)\n",
    "plt.xticks(s.index, ['Positive', 'Negative'], fontsize = 15)\n",
    "plt.tick_params(bottom = False, top = False, left = False, right = False, labelleft = False)\n",
    "for spine in plt.gca().spines.values():\n",
    "    spine.set_visible(False)\n",
    "for bar in bars:\n",
    "    plt.text(bar.get_x() + bar.get_width()/2, bar.get_height() - 5, s = str(bar.get_height())[:2] + '%', ha = 'center', fontsize = 15)\n",
    "plt.title('Reviews polarity', fontsize = 17)"
   ]
  },
  {
   "cell_type": "markdown",
   "metadata": {
    "id": "N2mypTdx7t5x"
   },
   "source": [
    "### **2.3 Data pre-processing**"
   ]
  },
  {
   "cell_type": "markdown",
   "metadata": {
    "id": "HoJs-9B_0fa1"
   },
   "source": [
    "**Text Cleaning**\n",
    "\n",
    "0.Label Encoder\n",
    "\n",
    "1.Remove html tags\n",
    "\n",
    "2.Remove special characters\n",
    "\n",
    "3.Converting every thing to lower case\n",
    "\n",
    "4.Removing Stop words\n",
    "\n",
    "5.Stemming\n",
    "\n",
    "6.Remove extra spaces\n",
    "\n",
    "7.Lemmatization"
   ]
  },
  {
   "cell_type": "code",
   "execution_count": 17,
   "metadata": {
    "colab": {
     "base_uri": "https://localhost:8080/",
     "height": 204
    },
    "id": "m0c9Mhd27t5x",
    "outputId": "b62b9b54-736c-4a30-c245-463c36db9863"
   },
   "outputs": [
    {
     "data": {
      "text/html": [
       "<div>\n",
       "<style scoped>\n",
       "    .dataframe tbody tr th:only-of-type {\n",
       "        vertical-align: middle;\n",
       "    }\n",
       "\n",
       "    .dataframe tbody tr th {\n",
       "        vertical-align: top;\n",
       "    }\n",
       "\n",
       "    .dataframe thead th {\n",
       "        text-align: right;\n",
       "    }\n",
       "</style>\n",
       "<table border=\"1\" class=\"dataframe\">\n",
       "  <thead>\n",
       "    <tr style=\"text-align: right;\">\n",
       "      <th></th>\n",
       "      <th>review</th>\n",
       "      <th>sentiment</th>\n",
       "    </tr>\n",
       "  </thead>\n",
       "  <tbody>\n",
       "    <tr>\n",
       "      <th>0</th>\n",
       "      <td>One of the other reviewers has mentioned that ...</td>\n",
       "      <td>1</td>\n",
       "    </tr>\n",
       "    <tr>\n",
       "      <th>1</th>\n",
       "      <td>A wonderful little production. &lt;br /&gt;&lt;br /&gt;The...</td>\n",
       "      <td>1</td>\n",
       "    </tr>\n",
       "    <tr>\n",
       "      <th>2</th>\n",
       "      <td>I thought this was a wonderful way to spend ti...</td>\n",
       "      <td>1</td>\n",
       "    </tr>\n",
       "    <tr>\n",
       "      <th>3</th>\n",
       "      <td>Basically there's a family where a little boy ...</td>\n",
       "      <td>0</td>\n",
       "    </tr>\n",
       "    <tr>\n",
       "      <th>4</th>\n",
       "      <td>Petter Mattei's \"Love in the Time of Money\" is...</td>\n",
       "      <td>1</td>\n",
       "    </tr>\n",
       "  </tbody>\n",
       "</table>\n",
       "</div>"
      ],
      "text/plain": [
       "                                              review  sentiment\n",
       "0  One of the other reviewers has mentioned that ...          1\n",
       "1  A wonderful little production. <br /><br />The...          1\n",
       "2  I thought this was a wonderful way to spend ti...          1\n",
       "3  Basically there's a family where a little boy ...          0\n",
       "4  Petter Mattei's \"Love in the Time of Money\" is...          1"
      ]
     },
     "execution_count": 17,
     "metadata": {},
     "output_type": "execute_result"
    }
   ],
   "source": [
    "label_encoder = LabelEncoder()\n",
    "df['sentiment'] = label_encoder.fit_transform(df['sentiment'])\n",
    "df.head()"
   ]
  },
  {
   "cell_type": "code",
   "execution_count": 18,
   "metadata": {
    "id": "0_y3JL040qZl"
   },
   "outputs": [],
   "source": [
    "df['review'] = df['review'].str.replace('<br />','')"
   ]
  },
  {
   "cell_type": "code",
   "execution_count": 19,
   "metadata": {
    "id": "rknrcaXY7t5y"
   },
   "outputs": [],
   "source": [
    "# function to remove special characters\n",
    "df[\"review\"] = df[\"review\"].apply(lambda x: re.sub(\"[^0-9a-zA-Z]\",' ', x))"
   ]
  },
  {
   "cell_type": "code",
   "execution_count": 20,
   "metadata": {
    "id": "QvPFHlqf0qKO"
   },
   "outputs": [],
   "source": [
    "df['review'] = df['review'].str.lower()"
   ]
  },
  {
   "cell_type": "code",
   "execution_count": 21,
   "metadata": {
    "colab": {
     "base_uri": "https://localhost:8080/"
    },
    "id": "ATF_Itt07t5y",
    "outputId": "a75bafaa-9bd2-4f2f-845d-7e978ea68bd1"
   },
   "outputs": [
    {
     "name": "stderr",
     "output_type": "stream",
     "text": [
      "[nltk_data] Downloading package stopwords to C:\\Users\\Liron\n",
      "[nltk_data]     Simhon\\AppData\\Roaming\\nltk_data...\n",
      "[nltk_data]   Package stopwords is already up-to-date!\n"
     ]
    }
   ],
   "source": [
    "nltk.download('stopwords')\n",
    "stop_words = set(stopwords.words(\"english\"))"
   ]
  },
  {
   "cell_type": "markdown",
   "metadata": {
    "id": "eZhD8qFa7t5z"
   },
   "source": [
    "**Stop Words Removal**\n",
    "\n",
    "We'll remove the stop words for better prediction."
   ]
  },
  {
   "cell_type": "code",
   "execution_count": 22,
   "metadata": {
    "colab": {
     "base_uri": "https://localhost:8080/"
    },
    "id": "OM2dasP47t5z",
    "outputId": "ac95abe5-5c73-478e-f585-892b30102183"
   },
   "outputs": [
    {
     "name": "stderr",
     "output_type": "stream",
     "text": [
      "[nltk_data] Downloading package punkt to C:\\Users\\Liron\n",
      "[nltk_data]     Simhon\\AppData\\Roaming\\nltk_data...\n",
      "[nltk_data]   Package punkt is already up-to-date!\n",
      "100%|██████████| 50000/50000 [01:04<00:00, 773.34it/s]\n"
     ]
    }
   ],
   "source": [
    "from tqdm import tqdm\n",
    "nltk.download('punkt')\n",
    "pbar = tqdm(total=df.shape[0], leave=True, position=0)\n",
    "\n",
    "def remove_sw(review):\n",
    "    tokens = word_tokenize(review)\n",
    "    tokens = [w for w in tokens if not w in stop_words]\n",
    "    pbar.update(1)\n",
    "    return \" \".join(tokens)\n",
    "\n",
    "df[\"review\"] = df[\"review\"].apply(remove_sw)\n",
    "pbar.close()"
   ]
  },
  {
   "cell_type": "markdown",
   "metadata": {
    "id": "Ebb3PAO47t5z"
   },
   "source": [
    "**Porter Stemmer**\n",
    "\n",
    "For this particular dataset the PorterStemmer does not bring better performance, so it is better to skip this step."
   ]
  },
  {
   "cell_type": "code",
   "execution_count": 23,
   "metadata": {
    "colab": {
     "base_uri": "https://localhost:8080/"
    },
    "id": "FQS-rhtY0qEp",
    "outputId": "d117ee1c-cb65-4396-bb55-65589837fa97"
   },
   "outputs": [
    {
     "name": "stderr",
     "output_type": "stream",
     "text": [
      "100%|██████████| 50000/50000 [03:15<00:00, 255.55it/s]\n"
     ]
    }
   ],
   "source": [
    "pbar = tqdm(total=df.shape[0], leave=True, position=0)\n",
    "ps = PorterStemmer()\n",
    "\n",
    "def stem(text):\n",
    "    pbar.update(1)\n",
    "    return ' '.join([ps.stem(word) for word in text.split()])\n",
    "\n",
    "df[\"review\"] = df[\"review\"].apply(stem)\n",
    "pbar.close()"
   ]
  },
  {
   "cell_type": "code",
   "execution_count": 24,
   "metadata": {
    "colab": {
     "base_uri": "https://localhost:8080/"
    },
    "id": "WXblOqOj7t50",
    "outputId": "aa4091c3-6643-4a14-c297-293d72efdc0d"
   },
   "outputs": [
    {
     "name": "stderr",
     "output_type": "stream",
     "text": [
      "[nltk_data] Downloading package punkt to C:\\Users\\Liron\n",
      "[nltk_data]     Simhon\\AppData\\Roaming\\nltk_data...\n",
      "[nltk_data]   Package punkt is already up-to-date!\n"
     ]
    }
   ],
   "source": [
    "nltk.download('punkt')\n",
    "#Creating a Lemmatizer for preprocessing\n",
    "class LemmaTokenizer:\n",
    "    def __init__(self):\n",
    "        self.wnl = WordNetLemmatizer()\n",
    "    def __call__(self, doc):\n",
    "        return [self.wnl.lemmatize(t) for t in word_tokenize(doc)]"
   ]
  },
  {
   "cell_type": "code",
   "execution_count": 25,
   "metadata": {
    "id": "8LzxOHtJ7t50"
   },
   "outputs": [],
   "source": [
    "df[\"review\"] = df[\"review\"].apply(lambda x: re.sub(\" +\",\" \", x))"
   ]
  },
  {
   "cell_type": "code",
   "execution_count": 26,
   "metadata": {
    "colab": {
     "base_uri": "https://localhost:8080/",
     "height": 154
    },
    "id": "_-hD_mWd7t50",
    "outputId": "c97e8f1d-74f8-474b-fb61-17790d6c78d5"
   },
   "outputs": [
    {
     "data": {
      "text/plain": [
       "'one review mention watch 1 oz episod hook right exactli happen first thing struck oz brutal unflinch scene violenc set right word go trust show faint heart timid show pull punch regard drug sex violenc hardcor classic use word call oz nicknam given oswald maximum secur state penitentari focus mainli emerald citi experiment section prison cell glass front face inward privaci high agenda em citi home mani aryan muslim gangsta latino christian italian irish scuffl death stare dodgi deal shadi agreement never far away would say main appeal show due fact goe show dare forget pretti pictur paint mainstream audienc forget charm forget romanc oz mess around first episod ever saw struck nasti surreal say readi watch develop tast oz got accustom high level graphic violenc violenc injustic crook guard sold nickel inmat kill order get away well manner middl class inmat turn prison bitch due lack street skill prison experi watch oz may becom comfort uncomfort view that get touch darker side'"
      ]
     },
     "execution_count": 26,
     "metadata": {},
     "output_type": "execute_result"
    }
   ],
   "source": [
    "# A cleaned review after pre proccessing\n",
    "df['review'][0]"
   ]
  },
  {
   "cell_type": "code",
   "execution_count": 27,
   "metadata": {
    "id": "TWEotQBt7t51"
   },
   "outputs": [],
   "source": [
    "neg = df[df['sentiment'] == 0]\n",
    "pos = df[df['sentiment'] == 1]"
   ]
  },
  {
   "cell_type": "code",
   "execution_count": 28,
   "metadata": {
    "id": "xuna3xS77t51"
   },
   "outputs": [],
   "source": [
    "import plotly.express as px\n",
    "def get_top_text_ngrams(corpus, n, g):\n",
    "    vec = CountVectorizer(ngram_range=(g, g)).fit(corpus)\n",
    "    bag_of_words = vec.transform(corpus)\n",
    "    sum_words = bag_of_words.sum(axis=0) \n",
    "    words_freq = [(word, sum_words[0, idx]) for word, idx in vec.vocabulary_.items()]\n",
    "    words_freq =sorted(words_freq, key = lambda x: x[1], reverse=True)\n",
    "    return words_freq[:n]"
   ]
  },
  {
   "cell_type": "code",
   "execution_count": 29,
   "metadata": {
    "colab": {
     "base_uri": "https://localhost:8080/",
     "height": 717
    },
    "id": "XT-VR9g_7t52",
    "outputId": "9bf6ef87-ca62-4ff2-b9bb-c835712583a3"
   },
   "outputs": [],
   "source": [
    "# Unigram - Commmon Words in Negative Text\n",
    "most_common_uni = get_top_text_ngrams(neg.review,10,1)\n",
    "most_common_uni = dict(most_common_uni)\n",
    "temp = pd.DataFrame(columns = [\"Common_words\" , 'Count'])\n",
    "temp[\"Common_words\"] = list(most_common_uni.keys())\n",
    "temp[\"Count\"] = list(most_common_uni.values())\n",
    "fig = px.bar(temp, x=\"Count\", y=\"Common_words\", title='Unigram - Commmon Words in Negative Text', orientation='h',\n",
    "             width=700, height=700,color='Common_words')\n",
    "fig.show()\n"
   ]
  },
  {
   "cell_type": "code",
   "execution_count": 30,
   "metadata": {
    "colab": {
     "base_uri": "https://localhost:8080/",
     "height": 717
    },
    "id": "WUJRYUL37t52",
    "outputId": "aeae5abf-3b7e-4dd5-be64-a6671c02a5de"
   },
   "outputs": [],
   "source": [
    "# Unigram - Commmon Words in Positive Text\n",
    "most_common_uni = get_top_text_ngrams(pos.review,10,1)\n",
    "most_common_uni = dict(most_common_uni)\n",
    "temp = pd.DataFrame(columns = [\"Common_words\" , 'Count'])\n",
    "temp[\"Common_words\"] = list(most_common_uni.keys())\n",
    "temp[\"Count\"] = list(most_common_uni.values())\n",
    "fig = px.bar(temp, x=\"Count\", y=\"Common_words\", title='Unigram - Commmon Words in Positive Text', orientation='h',\n",
    "             width=700, height=700,color='Common_words')\n",
    "fig.show()"
   ]
  },
  {
   "cell_type": "code",
   "execution_count": 31,
   "metadata": {
    "colab": {
     "base_uri": "https://localhost:8080/",
     "height": 717
    },
    "id": "Rvv7Mw5e7t53",
    "outputId": "d9dda435-6c83-4db9-ed04-f9b99951d7b4"
   },
   "outputs": [],
   "source": [
    "# Bigram - Commmon Words in Negative Text\n",
    "most_common_uni = get_top_text_ngrams(neg.review,10,2)\n",
    "most_common_uni = dict(most_common_uni)\n",
    "temp = pd.DataFrame(columns = [\"Common_words\" , 'Count'])\n",
    "temp[\"Common_words\"] = list(most_common_uni.keys())\n",
    "temp[\"Count\"] = list(most_common_uni.values())\n",
    "fig = px.bar(temp, x=\"Count\", y=\"Common_words\", title='Bigram - Commmon Words in Negative Text', orientation='h',\n",
    "             width=700, height=700,color='Common_words')\n",
    "fig.show()"
   ]
  },
  {
   "cell_type": "code",
   "execution_count": 32,
   "metadata": {
    "colab": {
     "base_uri": "https://localhost:8080/",
     "height": 717
    },
    "id": "lsmeyAYx7t53",
    "outputId": "c9a8a196-0d40-4e35-b11a-01e07bf6402c"
   },
   "outputs": [],
   "source": [
    "# Bigram - Commmon Words in Positive Text\n",
    "most_common_uni = get_top_text_ngrams(pos.review,10,2)\n",
    "most_common_uni = dict(most_common_uni)\n",
    "temp = pd.DataFrame(columns = [\"Common_words\" , 'Count'])\n",
    "temp[\"Common_words\"] = list(most_common_uni.keys())\n",
    "temp[\"Count\"] = list(most_common_uni.values())\n",
    "fig = px.bar(temp, x=\"Count\", y=\"Common_words\", title='Bigram - Commmon Words in Positive Text', orientation='h',\n",
    "             width=700, height=700,color='Common_words')\n",
    "fig.show()"
   ]
  },
  {
   "cell_type": "code",
   "execution_count": 33,
   "metadata": {
    "id": "dXDprN1i6OlJ"
   },
   "outputs": [],
   "source": [
    "X = df['review']\n",
    "y = df['sentiment']"
   ]
  },
  {
   "cell_type": "markdown",
   "metadata": {
    "id": "xoKXLtZi7t54"
   },
   "source": [
    "Split data to train and test for modeling and performance evaluation."
   ]
  },
  {
   "cell_type": "code",
   "execution_count": 34,
   "metadata": {
    "colab": {
     "base_uri": "https://localhost:8080/"
    },
    "id": "kIeTkIFa1Byt",
    "outputId": "6f7d8a71-6857-4e1e-897d-5348e29f2132"
   },
   "outputs": [
    {
     "name": "stdout",
     "output_type": "stream",
     "text": [
      "Training dataset : 25000 reviews\n",
      "Testing dataset : 25000 reviews\n"
     ]
    }
   ],
   "source": [
    "X_train, X_test, y_train, y_test = train_test_split(X, y, test_size=0.50, random_state=42)\n",
    "\n",
    "print('Training dataset : {} reviews'.format(X_train.shape[0]))\n",
    "print('Testing dataset : {} reviews'.format(X_test.shape[0]))"
   ]
  },
  {
   "cell_type": "code",
   "execution_count": 35,
   "metadata": {
    "colab": {
     "base_uri": "https://localhost:8080/"
    },
    "id": "kxGk8KXE7t54",
    "outputId": "275ba806-54b0-4856-f3ef-7db3729a44db"
   },
   "outputs": [
    {
     "data": {
      "text/plain": [
       "1    12517\n",
       "0    12483\n",
       "Name: sentiment, dtype: int64"
      ]
     },
     "execution_count": 35,
     "metadata": {},
     "output_type": "execute_result"
    }
   ],
   "source": [
    "y_test.value_counts()"
   ]
  },
  {
   "cell_type": "markdown",
   "metadata": {},
   "source": [
    "## 2. Unsupervised Learning Approach"
   ]
  },
  {
   "cell_type": "code",
   "execution_count": 36,
   "metadata": {
    "pycharm": {
     "name": "#%%\n"
    }
   },
   "outputs": [
    {
     "name": "stderr",
     "output_type": "stream",
     "text": [
      "[nltk_data] Downloading package sentiwordnet to C:\\Users\\Liron\n",
      "[nltk_data]     Simhon\\AppData\\Roaming\\nltk_data...\n",
      "[nltk_data]   Package sentiwordnet is already up-to-date!\n"
     ]
    }
   ],
   "source": [
    "import nltk\n",
    "from nltk.corpus import sentiwordnet as swn\n",
    "nltk.download('sentiwordnet')\n",
    "\n",
    "def calc_review_sentiment(review):\n",
    "    sentences = nltk.sent_tokenize(review)\n",
    "    stokens = [nltk.word_tokenize(sent) for sent in sentences]\n",
    "    taggedlist=[]\n",
    "\n",
    "    #stoken: tokens for one sentence. Create POS tagging for each token\n",
    "    for stoken in stokens:\n",
    "         taggedlist.append(nltk.pos_tag(stoken))\n",
    "    wnl = nltk.WordNetLemmatizer()\n",
    "\n",
    "    score_list=[]\n",
    "    for idx,taggedsent in enumerate(taggedlist):  #iterate over all tokens\n",
    "        score_list.append([])\n",
    "        for idx2,t in enumerate(taggedsent):  #t[0] word, t[1] pos tag\n",
    "            newtag=''\n",
    "            lemmatized=wnl.lemmatize(t[0])\n",
    "            if t[1].startswith('NN'):\n",
    "                newtag='n'\n",
    "            elif t[1].startswith('JJ'):\n",
    "                newtag='a'\n",
    "            elif t[1].startswith('V'):\n",
    "                newtag='v'\n",
    "            elif t[1].startswith('R'):\n",
    "                newtag='r'\n",
    "            else:\n",
    "                newtag=''\n",
    "            if(newtag!=''):\n",
    "                synsets = list(swn.senti_synsets(lemmatized, newtag))\n",
    "                #synsets contains for each token the probability for negative, positive and objective\n",
    "                #Getting average of all possible sentiments, as you requested\n",
    "                score=0\n",
    "                if(len(synsets)>0):\n",
    "                    for syn in synsets:\n",
    "                        score+=syn.pos_score()-syn.neg_score()\n",
    "                    score_list[idx].append(score/len(synsets))\n",
    "\n",
    "    sentence_sentiment=[]\n",
    "\n",
    "    for score_sent in score_list:\n",
    "        sentence_sentiment.append(sum([word_score for word_score in score_sent])/len(score_sent))\n",
    "\n",
    "    return sentence_sentiment[0]\n",
    "\n",
    "def calc_accuracy(preds, reals):\n",
    "    hits = 0\n",
    "    for pred, real in zip(preds, reals):\n",
    "        if pred > 0 and real == 1:\n",
    "            hits += 1\n",
    "        elif pred < 0 and real == 0:\n",
    "            hits += 1\n",
    "\n",
    "    total = len(reals)\n",
    "    return hits / total\n",
    "\n",
    "scores = X_test.apply(lambda review: calc_review_sentiment(review))\n",
    "accuracy = calc_accuracy(scores, y_test)\n",
    "print(accuracy)\n"
   ]
  },
  {
   "cell_type": "markdown",
   "metadata": {},
   "source": [
    "We have obtained more than 63% accuracy in predicting whether the review message is positive or negative, and we have performed feature extraction from the raw text in the process."
   ]
  },
  {
   "cell_type": "markdown",
   "metadata": {
    "id": "aT4YKKBjAuhm"
   },
   "source": [
    "## **3. Modeling**"
   ]
  },
  {
   "cell_type": "markdown",
   "metadata": {
    "id": "I53-aoEu7t55"
   },
   "source": [
    "### 3.1 Feature Extraction using TF-IDF algorithm\n",
    "\n",
    "![TFIDF](https://miro.medium.com/max/532/0*bHkPdhgfnyTs4un_)\n",
    "\n",
    "In scikit-learn, the TF-IDF algorithm is implemented using **TfidfTransformer**. This transformer needs the count matrix which it will transform later. Hence, we use **CountVectorizer** first.\n",
    "Alternatively, one can use **TfidfVectorizer**, which is the equivalent of CountVectorizer followed by TfidfTransformer"
   ]
  },
  {
   "cell_type": "code",
   "execution_count": 37,
   "metadata": {
    "colab": {
     "base_uri": "https://localhost:8080/"
    },
    "id": "03QUaef_1BsZ",
    "outputId": "d144758e-f122-48a5-efd6-56533b2bb9e8"
   },
   "outputs": [
    {
     "name": "stderr",
     "output_type": "stream",
     "text": [
      "[nltk_data] Downloading package wordnet to C:\\Users\\Liron\n",
      "[nltk_data]     Simhon\\AppData\\Roaming\\nltk_data...\n",
      "[nltk_data]   Package wordnet is already up-to-date!\n"
     ]
    }
   ],
   "source": [
    "nltk.download('wordnet')\n",
    "\n",
    "# default max_df = 0.5\n",
    "def create_tfidfVect(max_df):\n",
    "    tfidfVect = TfidfVectorizer( max_df = max_df,\n",
    "                                sublinear_tf=True,\n",
    "                                lowercase = True, \n",
    "                                ngram_range = (1,2), \n",
    "                                tokenizer = LemmaTokenizer(),\n",
    "                                stop_words = 'english',\n",
    "                                min_df = 1,\n",
    "                                use_idf = True,\n",
    "                                # max_features = 1000,\n",
    "                                strip_accents = 'ascii'\n",
    "                                )\n",
    "    return tfidfVect"
   ]
  },
  {
   "cell_type": "code",
   "execution_count": 38,
   "metadata": {
    "colab": {
     "base_uri": "https://localhost:8080/"
    },
    "id": "xy5Kji8F7t55",
    "outputId": "b6407d1a-3adb-42b2-fabe-6fc1f61f72e3"
   },
   "outputs": [
    {
     "name": "stderr",
     "output_type": "stream",
     "text": [
      "c:\\users\\liron simhon\\venv\\lib\\site-packages\\sklearn\\feature_extraction\\text.py:386: UserWarning: Your stop_words may be inconsistent with your preprocessing. Tokenizing the stop words generated tokens ['ha', 'le', 'u', 'wa'] not in stop_words.\n",
      "  'stop_words.' % sorted(inconsistent))\n"
     ]
    },
    {
     "name": "stdout",
     "output_type": "stream",
     "text": [
      "Wall time: 53.3 s\n"
     ]
    },
    {
     "data": {
      "text/plain": [
       "(25000, 1517681)"
      ]
     },
     "execution_count": 38,
     "metadata": {},
     "output_type": "execute_result"
    }
   ],
   "source": [
    "tfidfVect = create_tfidfVect(0.5)\n",
    "%time features = tfidfVect.fit_transform(X_train)\n",
    "features.shape"
   ]
  },
  {
   "cell_type": "markdown",
   "metadata": {
    "id": "hRMY4_Zi7t59"
   },
   "source": [
    "## Supervised Learning Approach"
   ]
  },
  {
   "cell_type": "code",
   "execution_count": 39,
   "metadata": {
    "pycharm": {
     "name": "#%%md\n"
    }
   },
   "outputs": [],
   "source": [
    "def print_accuracy_metrics(model, feature_ext, preds):\n",
    "    print(\"Testing report of tuned \" + model + \" using \" + feature_ext + \":\")\n",
    "    print(classification_report(y_test, preds))\n",
    "\n",
    "    print(\"confusion matrix of \" + model + \" using \" + feature_ext + \":\")\n",
    "    print(confusion_matrix(y_test, preds))\n",
    "\n",
    "    print(\"Accuracy of \" + model + \" using \" + feature_ext + \": {0:.3f}%\".format(accuracy_score(y_test, preds)*100))\n",
    "\n",
    "    return"
   ]
  },
  {
   "cell_type": "markdown",
   "metadata": {
    "id": "7Q53_1Jd7t59"
   },
   "source": [
    "## TfIdfVectorizer Feature Extraction \n",
    "**Naive Bayes Classifier for Multinomial**"
   ]
  },
  {
   "cell_type": "code",
   "execution_count": 40,
   "metadata": {
    "colab": {
     "base_uri": "https://localhost:8080/"
    },
    "id": "N9xHmUa-7t59",
    "outputId": "32cb6a2d-5b80-45cb-a037-3f99b1eeafdf"
   },
   "outputs": [
    {
     "name": "stdout",
     "output_type": "stream",
     "text": [
      "Best score:  0.8847999999999999\n",
      "Best params:  {'clf__tol': 0.0001, 'vect__max_df': 0.5}\n"
     ]
    }
   ],
   "source": [
    "#instantiate the model (with the default parameters)\n",
    "mnb = MultinomialNB()\n",
    "#fit the model with data (occurs in-place)\n",
    "mnb.fit(features, y_train)\n",
    "\n",
    "from sklearn.pipeline import Pipeline\n",
    "from sklearn.model_selection import GridSearchCV\n",
    "\n",
    "#tune parameters - hyper parameter optimizer\n",
    "nb_clf = Pipeline([('vect', TfidfVectorizer()),('clf', MultinomialNB())])\n",
    "parameters =  {'vect__max_df': (0.2,0.5),'clf__alpha': (0.01,0.5)}\n",
    "gs_clf = GridSearchCV(nb_clf, parameters, n_jobs=1, cv=KFold(n_splits=10, shuffle=True, random_state=0))\n",
    "gs_clf = gs_clf.fit(X_train,y_train)\n",
    "print('Best score: ',gs_clf.best_score_)\n",
    "print('Best params: ',gs_clf.best_params_)\n"
   ]
  },
  {
   "cell_type": "markdown",
   "source": [
    "**Perceptron Classifier**"
   ],
   "metadata": {
    "collapsed": false
   }
  },
  {
   "cell_type": "code",
   "execution_count": null,
   "outputs": [],
   "source": [
    "from sklearn.linear_model import Perceptron\n",
    "#instantiate the model (with the default parameters)\n",
    "prcpt = Perceptron()\n",
    "#fit the model with data (occurs in-place)\n",
    "prcpt.fit(features, y_train)\n",
    "#tune parameters - hyper parameter optimizer\n",
    "prcpt_clf = Pipeline([('vect', TfidfVectorizer()),('clf', Perceptron())])\n",
    "parameters =  {'vect__max_df': (0.3,0.5),'clf__alpha': (0.001,0.7)}\n",
    "gs_clf = GridSearchCV(prcpt_clf, parameters, n_jobs=1, cv=KFold(n_splits=10, shuffle=True, random_state=0))\n",
    "gs_clf = gs_clf.fit(X_train,y_train)\n",
    "print('Best score: ',gs_clf.best_score_)\n",
    "print('Best params: ',gs_clf.best_params_)"
   ],
   "metadata": {
    "collapsed": false,
    "pycharm": {
     "name": "#%%\n"
    }
   }
  },
  {
   "cell_type": "markdown",
   "source": [
    "**Logistic Regression**"
   ],
   "metadata": {
    "collapsed": false
   }
  },
  {
   "cell_type": "code",
   "execution_count": null,
   "outputs": [],
   "source": [
    "from sklearn.linear_model import LogisticRegression\n",
    "#instantiate the model (with the default parameters)\n",
    "lr = LogisticRegression()\n",
    "\n",
    "#fit the model with data (occurs in-place)\n",
    "lr.fit(features, y_train)\n",
    "\n",
    "#tune parameters - hyper parameter optimizer\n",
    "lr_clf = Pipeline([('vect', TfidfVectorizer()),('clf', LogisticRegression())])\n",
    "parameters =  {'vect__max_df': (0.1,0.5),'clf__tol': (0.0001,0.001)}\n",
    "gs_clf_b = GridSearchCV(lr_clf, parameters, n_jobs=1, cv=KFold(n_splits=10, shuffle=True, random_state=0))\n",
    "gs_clf_b = gs_clf_b.fit(X_train,y_train)\n",
    "print('Best score: ',gs_clf_b.best_score_)\n",
    "print('Best params: ',gs_clf_b.best_params_)\n"
   ],
   "metadata": {
    "collapsed": false,
    "pycharm": {
     "name": "#%%\n"
    }
   }
  },
  {
   "cell_type": "markdown",
   "metadata": {
    "id": "kB3uqRF67t6A"
   },
   "source": [
    "### Feature Extraction using Count Vectorizer"
   ]
  },
  {
   "cell_type": "code",
   "execution_count": 41,
   "metadata": {
    "id": "Ewb7nRWO7t6B"
   },
   "outputs": [],
   "source": [
    "def create_count_vectorizer(max_df):\n",
    "    cv=CountVectorizer( max_df = max_df,\n",
    "                    lowercase = True,\n",
    "                    ngram_range = (1,2),\n",
    "                    tokenizer = LemmaTokenizer(),\n",
    "                    stop_words = 'english',\n",
    "                    min_df = 1,\n",
    "                    )\n",
    "    return cv"
   ]
  },
  {
   "cell_type": "code",
   "execution_count": null,
   "outputs": [],
   "source": [
    "cv = create_count_vectorizer(0.5)\n",
    "%time bow_features = cv.fit_transform(X_train)\n",
    "bow_features.shape"
   ],
   "metadata": {
    "collapsed": false,
    "pycharm": {
     "name": "#%%\n"
    }
   }
  },
  {
   "cell_type": "markdown",
   "source": [
    "**MultinomialNB**"
   ],
   "metadata": {
    "collapsed": false
   }
  },
  {
   "cell_type": "code",
   "execution_count": null,
   "outputs": [],
   "source": [
    "#instantiate the model (with the default parameters)\n",
    "mnb2 = MultinomialNB()\n",
    "\n",
    "#fit the model with data (occurs in-place)\n",
    "mnb2.fit(bow_features, y_train)\n",
    "\n",
    "#tune parameters - hyper parameter optimizer\n",
    "nb_clf = Pipeline([('vect', CountVectorizer()),('clf', MultinomialNB())])\n",
    "parameters =  {'vect__max_df': (0.2,0.5),'clf__alpha': (0.01,0.3)}\n",
    "gs_clf = GridSearchCV(nb_clf, parameters, n_jobs=1, cv=KFold(n_splits=10, shuffle=True, random_state=0))\n",
    "gs_clf = gs_clf.fit(X_train,y_train)\n",
    "print('Best score: ',gs_clf.best_score_)\n",
    "print('Best params: ',gs_clf.best_params_)\n"
   ],
   "metadata": {
    "collapsed": false,
    "pycharm": {
     "name": "#%%\n"
    }
   }
  },
  {
   "cell_type": "markdown",
   "source": [
    "**LogisticRegression**"
   ],
   "metadata": {
    "collapsed": false
   }
  },
  {
   "cell_type": "code",
   "execution_count": null,
   "outputs": [],
   "source": [
    "#instantiate the model (with the default parameters)\n",
    "lr2 = LogisticRegression()\n",
    "\n",
    "#fit the model with data (occurs in-place)\n",
    "lr2.fit(bow_features, y_train)\n",
    "\n",
    "#tune parameters - hyper parameter optimizer\n",
    "lr2_clf = Pipeline([('vect', CountVectorizer()),('clf', LogisticRegression())])\n",
    "parameters =  {'vect__max_df': (0.3,0.5),'clf__tol': (0.0001,0.001)}\n",
    "gs_clf = GridSearchCV(lr2_clf, parameters, n_jobs=1, cv=KFold(n_splits=10, shuffle=True, random_state=0))\n",
    "gs_clf = gs_clf.fit(X_train,y_train)\n",
    "print('Best score: ',gs_clf.best_score_)\n",
    "print('Best params: ',gs_clf.best_params_)\n"
   ],
   "metadata": {
    "collapsed": false,
    "pycharm": {
     "name": "#%%\n"
    }
   }
  },
  {
   "cell_type": "markdown",
   "source": [
    "**Perceptron Classifier**"
   ],
   "metadata": {
    "collapsed": false
   }
  },
  {
   "cell_type": "code",
   "execution_count": null,
   "outputs": [],
   "source": [
    "#instantiate the model (with the default parameters)\n",
    "prcpt2 = Perceptron()\n",
    "\n",
    "#fit the model with data (occurs in-place)\n",
    "prcpt2.fit(bow_features, y_train)\n",
    "\n",
    "#tune parameters - hyper parameter optimizer\n",
    "prcpt2_clf = Pipeline([('vect', CountVectorizer()),('clf', Perceptron())])\n",
    "parameters =  {'vect__max_df': (0.1,0.5),'clf__alpha': (0.003,0.2)}\n",
    "gs_clf = GridSearchCV(prcpt2_clf, parameters, n_jobs=1, cv=KFold(n_splits=10, shuffle=True, random_state=0))\n",
    "gs_clf = gs_clf.fit(X_train,y_train)\n",
    "print('Best score: ',gs_clf.best_score_)\n",
    "print('Best params: ',gs_clf.best_params_)\n"
   ],
   "metadata": {
    "collapsed": false,
    "pycharm": {
     "name": "#%%\n"
    }
   }
  },
  {
   "cell_type": "markdown",
   "metadata": {
    "id": "BeUJKV2h7t6F"
   },
   "source": [
    "## Evaluation"
   ]
  },
  {
   "cell_type": "markdown",
   "metadata": {
    "id": "UoxUfP8y7t6G"
   },
   "source": [
    "We'll take the model with the highest training accuracy score and evaluate the test set with it. \n",
    "In our case the **LogisticRegression Classifier with TfidfVectorizer** provided us the highest score."
   ]
  },
  {
   "cell_type": "code",
   "execution_count": 42,
   "metadata": {
    "id": "mE1rZOPi7t6G"
   },
   "outputs": [],
   "source": [
    "# features_test = tfidfVect.fit_transform(X_test)\n",
    "pred = gs_clf_b.predict(X_test)\n",
    "pred = pd.DataFrame(pred)"
   ]
  },
  {
   "cell_type": "code",
   "execution_count": 43,
   "metadata": {
    "pycharm": {
     "name": "#%%\n"
    }
   },
   "outputs": [
    {
     "name": "stdout",
     "output_type": "stream",
     "text": [
      "Test accuracy score of LogisticRegression using TfidfVectorizer: 88.900%\n",
      "Test AUC score of LogisticRegression using TfidfVectorizer: 88.898 %\n",
      "Training report of tuned LogisticRegression using TfidfVectorizer:\n",
      "              precision    recall  f1-score   support\n",
      "\n",
      "           0       0.90      0.87      0.89     12483\n",
      "           1       0.88      0.90      0.89     12517\n",
      "\n",
      "    accuracy                           0.89     25000\n",
      "   macro avg       0.89      0.89      0.89     25000\n",
      "weighted avg       0.89      0.89      0.89     25000\n",
      "\n",
      "confusion matrix of LogisticRegression using TfidfVectorizer:\n",
      "[[10905  1578]\n",
      " [ 1197 11320]]\n",
      "Accuracy of LogisticRegression using TfidfVectorizer: 88.900%\n"
     ]
    }
   ],
   "source": [
    "print(\"Test accuracy score of LogisticRegression using TfidfVectorizer: {0:.3f}%\".format(accuracy_score(y_test, pred)*100))\n",
    "print(\"Test AUC score of LogisticRegression using TfidfVectorizer: {0:.3f} %\".format(roc_auc_score(y_test, pred)*100))\n",
    "print_accuracy_metrics(\"LogisticRegression\", \"TfidfVectorizer\", pred)"
   ]
  }
 ],
 "metadata": {
  "colab": {
   "collapsed_sections": [],
   "name": "IMDB_NLP.ipynb",
   "provenance": []
  },
  "kernelspec": {
   "display_name": "Python 3",
   "language": "python",
   "name": "python3"
  },
  "language_info": {
   "codemirror_mode": {
    "name": "ipython",
    "version": 3
   },
   "file_extension": ".py",
   "mimetype": "text/x-python",
   "name": "python",
   "nbconvert_exporter": "python",
   "pygments_lexer": "ipython3",
   "version": "3.7.8"
  }
 },
 "nbformat": 4,
 "nbformat_minor": 1
}